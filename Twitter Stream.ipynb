{
 "cells": [
  {
   "cell_type": "code",
   "execution_count": 1,
   "metadata": {
    "ExecuteTime": {
     "end_time": "2020-06-12T21:38:54.148894Z",
     "start_time": "2020-06-12T21:38:52.232826Z"
    }
   },
   "outputs": [],
   "source": [
    "import tweepy\n",
    "import sys\n",
    "import threading, apscheduler.schedulers.background\n",
    "import time\n",
    "from textblob import TextBlob\n",
    "\n",
    "class MyStreamListener(tweepy.StreamListener):\n",
    "\n",
    "    def __init__(self, c, t_interval):\n",
    "        tweepy.StreamListener.__init__(self)\n",
    "        #self.counts = dict()\n",
    "        self.counts_pos = dict()\n",
    "        self.counts_neg = dict()\n",
    "        self.c = c\n",
    "        self.t_interval = t_interval \n",
    "        \n",
    "    def on_status(self, status):\n",
    "        mentions = status.entities['user_mentions']\n",
    "        print(status.text)\n",
    "        if len(mentions) >= 0:      \n",
    "            polarity = TextBlob(status.text).sentiment.polarity\n",
    "            print('polarity: ' + str(polarity))        \n",
    "            if(polarity >= 0):\n",
    "                delete = []    \n",
    "                for user in self.counts_pos:\n",
    "                    if self.counts_pos[user] < 0.5:\n",
    "                        delete.append(user)\n",
    "                    else:\n",
    "                        self.counts_pos[user] *= (1-self.c) \n",
    "                for user in delete: \n",
    "                    del self.counts_pos[user] \n",
    "\n",
    "                for mention in mentions:\n",
    "                    self.counts_pos[mention['name']] = self.counts_pos.get(mention['name'], 0) + 1    \n",
    "            else:\n",
    "                delete = []    \n",
    "                for user in self.counts_neg:\n",
    "                    if self.counts_neg[user] < 0.5:\n",
    "                        delete.append(user)\n",
    "                    else:\n",
    "                        self.counts_neg[user] *= (1-self.c) \n",
    "                for user in delete: \n",
    "                    del self.counts_neg[user] \n",
    "\n",
    "                for mention in mentions:\n",
    "                    self.counts_neg[mention['name']] = self.counts_neg.get(mention['name'], 0) + 1  \n",
    "            \n",
    "    def on_timeout(self):\n",
    "        print('timeout')\n",
    "        return False\n",
    "        \n",
    "    def on_error(self, status_code):\n",
    "        print('Error: ' + str(status_code))\n",
    "        with open(\"PopularUsers.txt\", \"a\", encoding=\"utf-8\") as text_file:\n",
    "            print('Error: ' + str(status_code), file=text_file) \n",
    "            \n",
    "        if status_code == 420:    \n",
    "            print('Disconected: Rate limit surpassed: ' + str(status_code))\n",
    "            #returning False in on_error disconnects the stream\n",
    "            return False\n",
    "        else:\n",
    "            return True\n",
    "            # returning non-False reconnects the stream, with backoff."
   ]
  },
  {
   "cell_type": "code",
   "execution_count": 2,
   "metadata": {
    "ExecuteTime": {
     "end_time": "2020-06-12T21:38:54.167684Z",
     "start_time": "2020-06-12T21:38:54.161688Z"
    }
   },
   "outputs": [],
   "source": [
    "def getPopularUsers(myStreamListener):\n",
    "    result = \"\"\n",
    "    for k, v in sorted(myStreamListener.counts_pos.items(), key=lambda item: item[1], reverse=True)[:10]:\n",
    "        result += k + ' (' + str(v) + '); '\n",
    "    print('Popular: ' + result)\n",
    "    with open(\"PopularUsers.txt\", \"a\", encoding=\"utf-8\") as text_file:\n",
    "        print(result, file=text_file)   \n",
    "    \n",
    "    result = \"\"\n",
    "    for k, v in sorted(myStreamListener.counts_neg.items(), key=lambda item: item[1], reverse=True)[:10]:\n",
    "        result += k + ' (' + str(v) + '); '\n",
    "    print('Unpopular: ' + result)\n",
    "    with open(\"unPopularUsers.txt\", \"a\", encoding=\"utf-8\") as text_file:\n",
    "        print(result, file=text_file)  "
   ]
  },
  {
   "cell_type": "code",
   "execution_count": 3,
   "metadata": {
    "ExecuteTime": {
     "end_time": "2020-06-12T21:38:55.042260Z",
     "start_time": "2020-06-12T21:38:55.037272Z"
    }
   },
   "outputs": [],
   "source": [
    "if len(sys.argv) < 2:\n",
    "    print(\"I am Missing some arguments (<time interval T>\")\n",
    "    exit(-1)\n",
    "else:\n",
    "    t_interval = sys.argv[1]\n",
    "    if not t_interval.isnumeric():\n",
    "        t_interval = 10.0\n",
    "        \n",
    "c = 1E-2"
   ]
  },
  {
   "cell_type": "code",
   "execution_count": 4,
   "metadata": {
    "ExecuteTime": {
     "end_time": "2020-06-12T21:38:57.687411Z",
     "start_time": "2020-06-12T21:38:57.418131Z"
    }
   },
   "outputs": [
    {
     "name": "stdout",
     "output_type": "stream",
     "text": [
      "Connecting to Twitter..\n",
      "Connected.\n",
      "Updating 10 most popular users on Twitter in UK:\n"
     ]
    }
   ],
   "source": [
    "auth = tweepy.OAuthHandler('yoJRxZxTqy1rCTSysDU17kaPP', 'IU6g1kGSshXp78xbFa9bcgDNhC9iqiLOu0TJGuHFva1IUHcFSQ')\n",
    "auth.set_access_token('446228134-EceCoQoNc6Xe2U0NhN3Xd0qU4SvM39xSZ373YAp6', '8qW0JSQ7KOZweRnQIcYnj9wgVzGSZ8As1BVGNuYlygQLi')\n",
    "twAPI = tweepy.API(auth, wait_on_rate_limit=True, wait_on_rate_limit_notify=True)\n",
    "\n",
    "global myStreamListener\n",
    "\n",
    "print('Connecting to Twitter..')\n",
    "myStreamListener = MyStreamListener(c, t_interval)\n",
    "myStream = tweepy.Stream(auth = twAPI.auth, listener=myStreamListener)\n",
    "myStream.filter(locations=[-8.6, 49.5, 1.46, 60.5], is_async=True) #UK\n",
    "print('Connected.')\n",
    "\n",
    "scheduler = apscheduler.schedulers.background.BackgroundScheduler()\n",
    "scheduler.add_job(getPopularUsers, 'interval', args = [myStreamListener], seconds=(int) (t_interval))\n",
    "scheduler.start()\n",
    "print('Updating 10 most popular users on Twitter in UK:')"
   ]
  }
 ],
 "metadata": {
  "kernelspec": {
   "display_name": "Python [conda env:root] *",
   "language": "python",
   "name": "conda-root-py"
  },
  "language_info": {
   "codemirror_mode": {
    "name": "ipython",
    "version": 3
   },
   "file_extension": ".py",
   "mimetype": "text/x-python",
   "name": "python",
   "nbconvert_exporter": "python",
   "pygments_lexer": "ipython3",
   "version": "3.7.4"
  },
  "varInspector": {
   "cols": {
    "lenName": 16,
    "lenType": 16,
    "lenVar": 40
   },
   "kernels_config": {
    "python": {
     "delete_cmd_postfix": "",
     "delete_cmd_prefix": "del ",
     "library": "var_list.py",
     "varRefreshCmd": "print(var_dic_list())"
    },
    "r": {
     "delete_cmd_postfix": ") ",
     "delete_cmd_prefix": "rm(",
     "library": "var_list.r",
     "varRefreshCmd": "cat(var_dic_list()) "
    }
   },
   "types_to_exclude": [
    "module",
    "function",
    "builtin_function_or_method",
    "instance",
    "_Feature"
   ],
   "window_display": false
  }
 },
 "nbformat": 4,
 "nbformat_minor": 2
}
