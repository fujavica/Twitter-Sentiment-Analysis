{
 "cells": [
  {
   "cell_type": "code",
   "execution_count": 2,
   "metadata": {
    "ExecuteTime": {
     "end_time": "2021-08-21T16:29:29.038042Z",
     "start_time": "2021-08-21T16:29:29.028594Z"
    }
   },
   "outputs": [],
   "source": [
    "import tweepy\n",
    "import sys\n",
    "import threading, apscheduler.schedulers.background\n",
    "import time\n",
    "from textblob import TextBlob\n",
    "\n",
    "class MyStreamListener(tweepy.StreamListener):\n",
    "\n",
    "    def __init__(self, c, t_interval):\n",
    "        tweepy.StreamListener.__init__(self)\n",
    "        #self.counts = dict()\n",
    "        self.counts_pos = dict()\n",
    "        self.counts_neg = dict()\n",
    "        self.c = c\n",
    "        self.t_interval = t_interval \n",
    "        \n",
    "    def on_status(self, status):\n",
    "        mentions = status.entities['user_mentions']\n",
    "        #print(status.text)\n",
    "        if len(mentions) >= 0:      \n",
    "            polarity = TextBlob(status.text).sentiment.polarity\n",
    "            #print('polarity: ' + str(polarity))        \n",
    "            if(polarity >= 0):\n",
    "                delete = []    \n",
    "                for user in self.counts_pos:\n",
    "                    if self.counts_pos[user] < 0.5:\n",
    "                        delete.append(user)\n",
    "                    else:\n",
    "                        self.counts_pos[user] *= (1-self.c) \n",
    "                for user in delete: \n",
    "                    del self.counts_pos[user] \n",
    "\n",
    "                for mention in mentions:\n",
    "                    self.counts_pos[mention['name']] = self.counts_pos.get(mention['name'], 0) + 1    \n",
    "            else:\n",
    "                delete = []    \n",
    "                for user in self.counts_neg:\n",
    "                    if self.counts_neg[user] < 0.5:\n",
    "                        delete.append(user)\n",
    "                    else:\n",
    "                        self.counts_neg[user] *= (1-self.c) \n",
    "                for user in delete: \n",
    "                    del self.counts_neg[user] \n",
    "\n",
    "                for mention in mentions:\n",
    "                    self.counts_neg[mention['name']] = self.counts_neg.get(mention['name'], 0) + 1  \n",
    "            \n",
    "    def on_timeout(self):\n",
    "        print('timeout')\n",
    "        return False\n",
    "        \n",
    "    def on_error(self, status_code):\n",
    "        print('Error: ' + str(status_code))\n",
    "        with open(\"PopularUsers.txt\", \"a\", encoding=\"utf-8\") as text_file:\n",
    "            print('Error: ' + str(status_code), file=text_file) \n",
    "            \n",
    "        if status_code == 420:    \n",
    "            print('Disconected: Rate limit surpassed: ' + str(status_code))\n",
    "            #returning False in on_error disconnects the stream\n",
    "            return False\n",
    "        else:\n",
    "            return True\n",
    "            # returning non-False reconnects the stream, with backoff."
   ]
  },
  {
   "cell_type": "code",
   "execution_count": 3,
   "metadata": {
    "ExecuteTime": {
     "end_time": "2021-08-21T16:29:29.643335Z",
     "start_time": "2021-08-21T16:29:29.627009Z"
    }
   },
   "outputs": [],
   "source": [
    "def getPopularUsers(myStreamListener):\n",
    "    result = \"\"\n",
    "    for k, v in sorted(myStreamListener.counts_pos.items(), key=lambda item: item[1], reverse=True)[:10]:\n",
    "        result += k + ' (' + str(v) + '); '\n",
    "    print('\\nPopular: ' + result)\n",
    "    with open(\"PopularUsers.txt\", \"a\", encoding=\"utf-8\") as text_file:\n",
    "        print(result, file=text_file)   \n",
    "    \n",
    "    result = \"\"\n",
    "    for k, v in sorted(myStreamListener.counts_neg.items(), key=lambda item: item[1], reverse=True)[:10]:\n",
    "        result += k + ' (' + str(v) + '); '\n",
    "    print('\\nUnpopular: ' + result)\n",
    "    with open(\"unPopularUsers.txt\", \"a\", encoding=\"utf-8\") as text_file:\n",
    "        print(result, file=text_file)  "
   ]
  },
  {
   "cell_type": "code",
   "execution_count": 4,
   "metadata": {
    "ExecuteTime": {
     "end_time": "2021-08-21T16:29:30.017794Z",
     "start_time": "2021-08-21T16:29:30.013805Z"
    }
   },
   "outputs": [],
   "source": [
    "if len(sys.argv) < 2:\n",
    "    print(\"I am Missing some arguments (<time interval T>\")\n",
    "    exit(-1)\n",
    "else:\n",
    "    t_interval = sys.argv[1]\n",
    "    if not t_interval.isnumeric():\n",
    "        t_interval = 10.0\n",
    "        \n",
    "c = 1E-2"
   ]
  },
  {
   "cell_type": "code",
   "execution_count": 5,
   "metadata": {
    "ExecuteTime": {
     "end_time": "2021-08-21T16:31:10.541475Z",
     "start_time": "2021-08-21T16:29:30.395367Z"
    }
   },
   "outputs": [
    {
     "name": "stdout",
     "output_type": "stream",
     "text": [
      "Connecting to Twitter..\n",
      "Connected.\n",
      "Updating 10 most popular users on Twitter in UK:\n",
      "\n",
      "Popular: Gordon Tennant (1); Croydon FC (1); Byron the ARTist (0.99); SuperSkunk420 (0.99); ⚜️Anton⚜️ (0.9801); القادح بنيغا (0.9702989999999999); Brighton & Hove Albion (0.96059601); Watford Football Club (0.96059601); Premier League (0.96059601); AlexWinterFit (0.96059601); \n",
      "\n",
      "Unpopular: Andrew DCFC Thompson 🏴󠁧󠁢󠁥󠁮󠁧󠁿 (1); Alex Steward (1); The Howdens (0.99); LutonTown (0.99); \n",
      "\n",
      "Popular: Pampered Pony (1); kat🕊 (1); LutonTown (0.9801); graeme ling (0.9414801494009999); Darren Grimes (0.9414801494009999); Darius (0.9320653479069899); The Cross Players ☝️ (0.9320653479069899); meg (0.92274469442792); Richard Smith (0.9135172474836407); Anna Johnston (0.9135172474836407); \n",
      "\n",
      "Unpopular: Clive ivory (1); Andrew DCFC Thompson 🏴󠁧󠁢󠁥󠁮󠁧󠁿 (0.99); Alex Steward (0.99); The Howdens (0.9801); LutonTown (0.9801); \n",
      "\n",
      "Popular: Prescot Cables F.C. (1.549702733547512); Campion AFC 🔴⚫ (1.549702733547512); ray epps (0.99); Chloe (0.9801); Jaydyn harber💚 (0.9702989999999999); Plymouth Argyle FC (0.9702989999999999); Revolution Pro (0.96059601); Mike Hartley (0.9414801494009999); Illyria (0.9320653479069899); Brayden Creations (0.8953382542587163); \n",
      "\n",
      "Unpopular: LutonTown (1.9409900499); Ryan Allan Edgington (1); BBC West (0.9801); Clive ivory (0.9702989999999999); Andrew DCFC Thompson 🏴󠁧󠁢󠁥󠁮󠁧󠁿 (0.96059601); Alex Steward (0.96059601); The Howdens (0.9509900498999999); \n",
      "\n",
      "Popular: Prescot Cables F.C. (2.043736186333061); Campion AFC 🔴⚫ (2.043736186333061); Friendly Black Hottie (1); Adam Matthews (1); Rob Fletcher (0.99); anthony vickers (0.99); Mulbarton FC (0.9702989999999999); TheWavendonian (0.9702989999999999); Tamworth Football Club (0.96059601); Lowestoft Town FC (0.96059601); \n",
      "\n",
      "Unpopular: LutonTown (1.8645072973836407); Pegasus Ultra Running (0.9801); Scourge of Fuzz 🇪🇺🏴󠁧󠁢󠁳󠁣󠁴󠁿🚴🐈♻️🍻 (0.9702989999999999); Hannah 🚲 (0.9702989999999999); Ryan Allan Edgington (0.96059601); BBC West (0.9414801494009999); Clive ivory (0.9320653479069899); Andrew DCFC Thompson 🏴󠁧󠁢󠁥󠁮󠁧󠁿 (0.92274469442792); Alex Steward (0.92274469442792); The Howdens (0.9135172474836407); \n",
      "\n",
      "Popular: Prescot Cables F.C. (1.6548701453661139); Campion AFC 🔴⚫ (1.6548701453661139); Peter Broome (1); Blackburn Rovers (1); thegoatshd (0.9801); Dún Laoghaire-Rathdown County Council (0.9801); Cllr. Jim O'Leary (Dundrum LEA) (0.9801); City Xtra (0.96059601); Gabriel Jesus (0.96059601); Simon Bajkowski (0.96059601); \n",
      "\n",
      "Unpopular: LutonTown (1.8274036021657063); Zen Crick-IT (1); im kinda here (0.99); Nico Colarusso (0.99); Jackson 🌈💐 (0.99); mr. motherfuckin 1 spot (0.99); pokey (0.99); Pegasus Ultra Running (0.96059601); Scourge of Fuzz 🇪🇺🏴󠁧󠁢󠁳󠁣󠁴󠁿🚴🐈♻️🍻 (0.9509900498999999); Hannah 🚲 (0.9509900498999999); \n",
      "\n",
      "Popular: Prescot Cables F.C. (1.3001952990886207); Campion AFC 🔴⚫ (1.3001952990886207); Tony (1); Lancaster & Crowther (0.99); Stoke City FC (0.99); Nottingham Forest FC ❤️ (0.99); Matthew noble (0.9702989999999999); O K Λ ⵣ (0.96059601); Stephen King (0.96059601); Andy Grey (0.9509900498999999); \n",
      "\n",
      "Unpopular: LutonTown (1.7553966089000046); Nikki - 💚 Thrifty Green Life💚 (1); Josh (0.9702989999999999); Fantom Tweets (0.9702989999999999); Zen Crick-IT (0.96059601); im kinda here (0.9509900498999999); Nico Colarusso (0.9509900498999999); Jackson 🌈💐 (0.9509900498999999); mr. motherfuckin 1 spot (0.9509900498999999); pokey (0.9509900498999999); \n",
      "\n",
      "Popular: Prescot Cables F.C. (1.0850308696621667); Campion AFC 🔴⚫ (1.0850308696621667); The Slimming Chef (0.96059601); Az (0.96059601); Jamie Oliver (0.96059601); Neal Black (0.9414801494009999); Chris Sutton (0.9414801494009999); Burnicle Bingo (0.92274469442792); Bennetts British Superbike Championship (0.92274469442792); Eurosport UK (0.92274469442792); \n",
      "\n",
      "Unpopular: LutonTown (1.6862269784768749); Sky Sports Golf (0.99); Cineworld Cinemas (0.9801); Beth ✨ (0.9702989999999999); 🤠 CowBoy VikingSims 😈 (0.9702989999999999); Nikki - 💚 Thrifty Green Life💚 (0.96059601); Josh (0.9320653479069899); Fantom Tweets (0.9320653479069899); Zen Crick-IT (0.92274469442792); im kinda here (0.9135172474836407); \n",
      "\n",
      "Popular: Prescot Cables F.C. (1.7649752988028111); Campion AFC 🔴⚫ (1.7649752988028111); UNITED IT IS 🔴 (1); Paul Boyd Musicals (pbm) (0.9801); Paul Alexander Boyd #FBPE (0.9801); Charlton Athletic FC (0.9702989999999999); Reading FC (0.9414801494009999); Andy Dawson (0.9320653479069899); 𝓡𝓸𝓫 🏴󠁧󠁢󠁥󠁮󠁧󠁿 (0.92274469442792); Bill stares at the bird feeders Blackstock (0.9135172474836407); \n",
      "\n",
      "Unpopular: LutonTown (1.6526710616051852); Chris Cameron (0.99); Martin McGillivray (0.99); Sky Sports Golf (0.9702989999999999); Cineworld Cinemas (0.96059601); Beth ✨ (0.9509900498999999); 🤠 CowBoy VikingSims 😈 (0.9509900498999999); Nikki - 💚 Thrifty Green Life💚 (0.9414801494009999); Josh (0.9135172474836407); Fantom Tweets (0.9135172474836407); \n",
      "\n",
      "Popular: H Michelle Johnson (1.5872285672873105); Prescot Cables F.C. (1.3728354862207175); Campion AFC 🔴⚫ (1.3728354862207175); Neil Farrington (0.99); Premier League (0.99); Sean Geer (0.9702989999999999); Ian Walker (0.9702989999999999); Tom Berry (0.9702989999999999); Linda4indy2 🏴󠁧󠁢󠁳󠁣󠁴󠁿🏴󠁧󠁢󠁷󠁬󠁳󠁿🇮🇪 (0.9414801494009999); isagazê (0.8953382542587163); \n",
      "\n",
      "Unpopular: LutonTown (1.6035850784044496); Mungo (0.9801); Gary Delaney is on tour now (0.9801); Chris Cameron (0.96059601); Martin McGillivray (0.96059601); Sky Sports Golf (0.9414801494009999); Cineworld Cinemas (0.9320653479069899); Beth ✨ (0.92274469442792); 🤠 CowBoy VikingSims 😈 (0.92274469442792); Nikki - 💚 Thrifty Green Life💚 (0.9135172474836407); \n",
      "\n",
      "Popular: Brad  Clarke (1.5620109983671675); Cal not Carl (1.5620109983671675); H Michelle Johnson (1.2723709721277419); Prescot Cables F.C. (1.1005069201592368); Campion AFC 🔴⚫ (1.1005069201592368); The Wednesday Week (1); Pablo Tescobar (0.99); Screen Share (0.9801); Adam Savage 🇬🇧 (0.9702989999999999); bebbs (0.96059601); \n",
      "\n",
      "Unpopular: LutonTown (1.6035850784044496); Mungo (0.9801); Gary Delaney is on tour now (0.9801); Chris Cameron (0.96059601); Martin McGillivray (0.96059601); Sky Sports Golf (0.9414801494009999); Cineworld Cinemas (0.9320653479069899); Beth ✨ (0.92274469442792); 🤠 CowBoy VikingSims 😈 (0.92274469442792); Nikki - 💚 Thrifty Green Life💚 (0.9135172474836407); \n"
     ]
    }
   ],
   "source": [
    "auth = tweepy.OAuthHandler('yoJRxZxTqy1rCTSysDU17kaPP', 'IU6g1kGSshXp78xbFa9bcgDNhC9iqiLOu0TJGuHFva1IUHcFSQ')\n",
    "auth.set_access_token('446228134-EceCoQoNc6Xe2U0NhN3Xd0qU4SvM39xSZ373YAp6', '8qW0JSQ7KOZweRnQIcYnj9wgVzGSZ8As1BVGNuYlygQLi')\n",
    "twAPI = tweepy.API(auth, wait_on_rate_limit=True, wait_on_rate_limit_notify=True)\n",
    "\n",
    "global myStreamListener\n",
    "\n",
    "print('Connecting to Twitter..')\n",
    "myStreamListener = MyStreamListener(c, t_interval)\n",
    "myStream = tweepy.Stream(auth = twAPI.auth, listener=myStreamListener)\n",
    "myStream.filter(locations=[-8.6, 49.5, 1.46, 60.5], is_async=True) #UK\n",
    "print('Connected.')\n",
    "\n",
    "scheduler = apscheduler.schedulers.background.BackgroundScheduler()\n",
    "scheduler.add_job(getPopularUsers, 'interval', args = [myStreamListener], seconds=(int) (t_interval))\n",
    "scheduler.start()\n",
    "print('Updating 10 most popular users on Twitter in UK:')\n",
    "time.sleep(100)"
   ]
  },
  {
   "cell_type": "code",
   "execution_count": null,
   "metadata": {},
   "outputs": [],
   "source": []
  },
  {
   "cell_type": "code",
   "execution_count": null,
   "metadata": {},
   "outputs": [],
   "source": []
  }
 ],
 "metadata": {
  "kernelspec": {
   "display_name": "Python [conda env:root] *",
   "language": "python",
   "name": "conda-root-py"
  },
  "varInspector": {
   "cols": {
    "lenName": 16,
    "lenType": 16,
    "lenVar": 40
   },
   "kernels_config": {
    "python": {
     "delete_cmd_postfix": "",
     "delete_cmd_prefix": "del ",
     "library": "var_list.py",
     "varRefreshCmd": "print(var_dic_list())"
    },
    "r": {
     "delete_cmd_postfix": ") ",
     "delete_cmd_prefix": "rm(",
     "library": "var_list.r",
     "varRefreshCmd": "cat(var_dic_list()) "
    }
   },
   "types_to_exclude": [
    "module",
    "function",
    "builtin_function_or_method",
    "instance",
    "_Feature"
   ],
   "window_display": false
  }
 },
 "nbformat": 4,
 "nbformat_minor": 2
}
